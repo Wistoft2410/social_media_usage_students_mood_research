{
 "cells": [
  {
   "cell_type": "code",
   "execution_count": null,
   "metadata": {},
   "outputs": [],
   "source": [
    "import praw \n",
    "from praw.models import MoreComments\n",
    "import pandas as pd"
   ]
  },
  {
   "cell_type": "code",
   "execution_count": null,
   "metadata": {},
   "outputs": [],
   "source": [
    "url = \"https://www.reddit.com/r/ask/comments/r8n9i8/why_did_you_stop_using_facebook\""
   ]
  },
  {
   "cell_type": "code",
   "execution_count": null,
   "metadata": {
    "scrolled": false
   },
   "outputs": [],
   "source": [
    "# read only praw instance \n",
    "r = praw.Reddit(client_id=\"45bl1Dce-rpqMwRa1UecZA\",\n",
    "                client_secret=\"M0iq4f-qsmTr3y_jtMAK75CuxwngxA\",\n",
    "                user_agent=\"Wistoft2410\")\n",
    "\n",
    "# change the url variable to the given submission (subreddit post) that you want\n",
    "submission = r.submission(url = url)\n",
    "subreddit = r.subreddit(\"ask\") # locating the subreddit that I'm interested in scraping \n",
    "\n",
    "# technical data \n",
    "print(\"reddit object: \", type(r))\n",
    "print(\"subreddit post object\",type(submission.comments),\"\\n\")\n",
    "\n",
    "# domain insight : \n",
    "print(\"subreddit titel: \", subreddit)\n",
    "print(\"submission url: \", submission.url)\n",
    "print(\"submission author: \", submission.author)\n",
    "\n",
    "\n",
    "# practical information about the subreddit post\n",
    "print(\"submission id: \", submission.name, \"\\n\")\n",
    "print(\"total comments: \", submission.num_comments)\n",
    "print(\"total score: \", submission.score, \"\\n\")\n",
    "\n",
    "\n",
    "'''\n",
    "# displaying specific data been located  \n",
    "print(\"Display Name: \", subreddit.display_name)\n",
    "print(\"Titel: \", subreddit.title)\n",
    "print(\"Description:\", subreddit.description)\n",
    "'''\n",
    "\n",
    "'''\n",
    "# testing \n",
    "hot_posts = r.subreddit('ask').hot(limit=10)\n",
    "print(\"hot posts: \", hot_posts)\n",
    "'''\n",
    "\n",
    "print(\"check point 1\")"
   ]
  },
  {
   "cell_type": "code",
   "execution_count": null,
   "metadata": {},
   "outputs": [],
   "source": [
    "num = 0\n",
    "comment_dict = []\n",
    "# fetching all the relevant comments\n",
    "for top_submission_comments in submission.comments:\n",
    "    if isinstance(top_submission_comments, MoreComments):\n",
    "        continue\n",
    "    num += 1\n",
    "    print(\".................................\",\"\\n\")\n",
    "    print(\"com num: \", num)\n",
    "    print(\"user id: \",top_submission_comments.id)\n",
    "    print(\"parent id:\",top_submission_comments.parent_id,\"\\n\")\n",
    "    \n",
    "    print(top_submission_comments.body)  \n",
    "\n",
    "    # appending \n",
    "    comment_dict.append(top_submission_comments.body)\n",
    "    pass\n",
    "\n",
    "\n",
    "print(\"check point 2: \", \"total comments: \", num)\n",
    "print(\"check point 2: \", \"total comments: \", comment_dict)"
   ]
  },
  {
   "cell_type": "code",
   "execution_count": null,
   "metadata": {},
   "outputs": [],
   "source": [
    "print(\"check point 4\")    \n",
    "\n",
    "# preparing the storage of data with a dictionary \n",
    "com_dict = {\"Parent ID\": [], \n",
    "            \"ID\": [], \n",
    "            \"Score\": [], \n",
    "            \"Saved\": [],\n",
    "            \"Text\": [], \n",
    "            \"Permalink\": []\n",
    "           }\n",
    "\n",
    "# appending each data value to their respective key in the dictionary \n",
    "for top_submission_comments in submission.comments:\n",
    "    if isinstance(top_submission_comments, MoreComments):\n",
    "        continue\n",
    "     (top_submission_comments.parent_id)\n",
    "    com_dict[\"ID\"].append(top_submission_comments.id)\n",
    "    com_dict[\"Score\"].append(top_submission_comments.score)\n",
    "    com_dict[\"Saved\"].append(top_submission_comments.saved) \n",
    "    com_dict[\"Text\"].append(top_submission_comments.body)\n",
    "    com_dict[\"Permalink\"].append(top_submission_comments.permalink)\n",
    "    "
   ]
  },
  {
   "cell_type": "code",
   "execution_count": null,
   "metadata": {},
   "outputs": [],
   "source": [
    "print(com_dict)"
   ]
  },
  {
   "cell_type": "code",
   "execution_count": null,
   "metadata": {},
   "outputs": [],
   "source": [
    "# create pandas raw dataframe\n",
    "df = pd.DataFrame(com_dict)\n",
    "\n",
    "# skip first row due to invalid 'bot' commment\n",
    "df = df.iloc[1: , :] \n",
    "df"
   ]
  },
  {
   "cell_type": "code",
   "execution_count": null,
   "metadata": {},
   "outputs": [],
   "source": [
    "# adjust this variable to be either '1' or '0' in relation to export format for the dataframe\n",
    "csv_or_not = 1\n",
    "\n",
    "if csv_or_not == 0: \n",
    "    file_name = 'subreddit_data_3.xlsx' \n",
    "    df.to_excel(file_name)\n",
    "    \n",
    "elif csv_or_not == 1:\n",
    "    file_name = 'subreddit_data_3.csv'\n",
    "    df.to_csv(file_name)\n"
   ]
  }
 ],
 "metadata": {
  "kernelspec": {
   "display_name": "Python 3 (ipykernel)",
   "language": "python",
   "name": "python3"
  },
  "language_info": {
   "codemirror_mode": {
    "name": "ipython",
    "version": 3
   },
   "file_extension": ".py",
   "mimetype": "text/x-python",
   "name": "python",
   "nbconvert_exporter": "python",
   "pygments_lexer": "ipython3",
   "version": "3.8.2"
  }
 },
 "nbformat": 4,
 "nbformat_minor": 1
}
